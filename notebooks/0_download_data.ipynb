{
 "cells": [
  {
   "cell_type": "code",
   "execution_count": null,
   "metadata": {},
   "outputs": [],
   "source": [
    "# download 4-Band Analytic PlanetScope asset\n",
    "!curl -O -J https://hello.planet.com/data/s/UG2TX98suVmmi9q/download\n",
    "\n",
    "# download XML metadata\n",
    "!curl -O -J https://hello.planet.com/data/s/jqDQE8xUHiD511e/download"
   ]
  },
  {
   "cell_type": "code",
   "execution_count": null,
   "metadata": {},
   "outputs": [],
   "source": [
    "# download 3-Band Visual PlanetScope asset\n",
    "!curl -O -J https://hello.planet.com/data/s/ZWwAg1RcmIN5h9R/download"
   ]
  }
 ],
 "metadata": {
  "kernelspec": {
   "display_name": "rs103",
   "language": "python",
   "name": "rs103"
  },
  "language_info": {
   "codemirror_mode": {
    "name": "ipython",
    "version": 3
   },
   "file_extension": ".py",
   "mimetype": "text/x-python",
   "name": "python",
   "nbconvert_exporter": "python",
   "pygments_lexer": "ipython3",
   "version": "3.6.7"
  }
 },
 "nbformat": 4,
 "nbformat_minor": 2
}
