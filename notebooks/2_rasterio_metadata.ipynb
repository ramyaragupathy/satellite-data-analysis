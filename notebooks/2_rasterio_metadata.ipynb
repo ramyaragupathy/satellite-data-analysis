{
 "cells": [
  {
   "cell_type": "markdown",
   "metadata": {},
   "source": [
    "# Extracting metadata information from a satellite image\n",
    "\n"
   ]
  },
  {
   "cell_type": "code",
   "execution_count": null,
   "metadata": {
    "scrolled": false
   },
   "outputs": [],
   "source": [
    "# user rasterio to open a 3-band (red, green, blue) PlanetScope visual asset\n",
    "\n",
    "import rasterio\n",
    "satdat = rasterio.open(\"20160831_180302_0e26_3B_Visual.tif\")"
   ]
  },
  {
   "cell_type": "code",
   "execution_count": null,
   "metadata": {
    "scrolled": false
   },
   "outputs": [],
   "source": [
    "# Minimum bounding box in projected units\n",
    "\n",
    "print(satdat.bounds)"
   ]
  },
  {
   "cell_type": "code",
   "execution_count": null,
   "metadata": {
    "scrolled": false
   },
   "outputs": [],
   "source": [
    "# Get dimensions, in map units (using the example GeoTIFF, that's meters)\n",
    "\n",
    "width_in_projected_units = satdat.bounds.right - satdat.bounds.left\n",
    "height_in_projected_units = satdat.bounds.top - satdat.bounds.bottom\n",
    "\n",
    "print(\"Width: {}, Height: {}\".format(width_in_projected_units, height_in_projected_units))"
   ]
  },
  {
   "cell_type": "code",
   "execution_count": null,
   "metadata": {
    "scrolled": false
   },
   "outputs": [],
   "source": [
    "# Number of rows and columns.\n",
    "\n",
    "print(\"Rows: {}, Columns: {}\".format(satdat.height, satdat.width))"
   ]
  },
  {
   "cell_type": "code",
   "execution_count": null,
   "metadata": {
    "scrolled": false
   },
   "outputs": [],
   "source": [
    "# This dataset's projection uses meters as distance units.  What are the dimensions of a single pixel in meters?\n",
    "\n",
    "xres = (satdat.bounds.right - satdat.bounds.left) / satdat.width\n",
    "yres = (satdat.bounds.top - satdat.bounds.bottom) / satdat.height\n",
    "\n",
    "print(xres, yres)\n",
    "print(\"Are the pixels square: {}\".format(xres == yres))"
   ]
  },
  {
   "cell_type": "code",
   "execution_count": null,
   "metadata": {
    "scrolled": false
   },
   "outputs": [],
   "source": [
    "# Get coordinate reference system\n",
    "\n",
    "satdat.crs"
   ]
  },
  {
   "cell_type": "code",
   "execution_count": null,
   "metadata": {
    "scrolled": false
   },
   "outputs": [],
   "source": [
    "# Convert pixel coordinates to world coordinates.\n",
    "\n",
    "# Upper left pixel\n",
    "row_min = 0\n",
    "col_min = 0\n",
    "\n",
    "# Lower right pixel.  Rows and columns are zero indexing.\n",
    "row_max = satdat.height - 1\n",
    "col_max = satdat.width - 1\n",
    "\n",
    "# Transform coordinates with the dataset's affine transformation.\n",
    "topleft = satdat.transform * (row_min, col_min)\n",
    "botright = satdat.transform * (row_max, col_max)\n",
    "\n",
    "print(\"Top left corner coordinates: {}\".format(topleft))\n",
    "print(\"Bottom right corner coordinates: {}\".format(botright))"
   ]
  },
  {
   "cell_type": "code",
   "execution_count": null,
   "metadata": {
    "scrolled": false
   },
   "outputs": [],
   "source": [
    "# All of the metadata required to create an image of the same dimensions, datatype, format, etc. is stored in\n",
    "# the dataset's profile:\n",
    "\n",
    "satdat.profile"
   ]
  },
  {
   "cell_type": "markdown",
   "metadata": {},
   "source": [
    "## File Compression\n",
    "\n",
    "Raster datasets use **compression** to reduce filesize. There are a number of compression methods, all of which fall into two categories: lossy and lossless. _Lossless_ compression methods retain the original values in each pixel of the raster, while _lossy_ methods result in some values being removed. Because of this, lossy compression is generally not well-suited for analytic purposes, but can be very useful for reducing storage size of visual imagery.\n",
    "\n",
    "All Planet data products are available as GeoTIFFs using lossless LZW compression. By creating a lossy-compressed copy of a visual asset, we can significantly reduce the dataset's filesize. In this example, we will create a copy using the \"JPEG\" lossy compression method:"
   ]
  },
  {
   "cell_type": "code",
   "execution_count": null,
   "metadata": {
    "scrolled": false
   },
   "outputs": [],
   "source": [
    "import os\n",
    "from humanize import naturalsize as sz\n",
    "\n",
    "# returns size in bytes\n",
    "size = os.path.getsize(\"20160831_180302_0e26_3B_Visual.tif\")\n",
    "\n",
    "# output a human-friendly size\n",
    "print(sz(size))"
   ]
  },
  {
   "cell_type": "markdown",
   "metadata": {},
   "source": [
    "## Copying a dataset "
   ]
  },
  {
   "cell_type": "code",
   "execution_count": null,
   "metadata": {
    "scrolled": false
   },
   "outputs": [],
   "source": [
    "# read all bands from source dataset into a single 3-dimensional ndarray\n",
    "\n",
    "data = satdat.read()"
   ]
  },
  {
   "cell_type": "code",
   "execution_count": null,
   "metadata": {
    "scrolled": true
   },
   "outputs": [],
   "source": [
    "# write new file using profile metadata from original dataset\n",
    "# and specifying JPEG compression\n",
    "\n",
    "profile = satdat.profile\n",
    "profile['compress'] = 'JPEG'\n",
    "\n",
    "with rasterio.open('compressed.tif', 'w', **profile) as dst:\n",
    "    dst.write(data)"
   ]
  },
  {
   "cell_type": "markdown",
   "metadata": {},
   "source": [
    "### Lossy compression results"
   ]
  },
  {
   "cell_type": "code",
   "execution_count": null,
   "metadata": {
    "scrolled": false
   },
   "outputs": [],
   "source": [
    "new_size = os.path.getsize(\"compressed.tif\")\n",
    "print(sz(new_size))"
   ]
  }
 ],
 "metadata": {
  "kernelspec": {
   "display_name": "rs103",
   "language": "python",
   "name": "rs103"
  },
  "language_info": {
   "codemirror_mode": {
    "name": "ipython",
    "version": 3
   },
   "file_extension": ".py",
   "mimetype": "text/x-python",
   "name": "python",
   "nbconvert_exporter": "python",
   "pygments_lexer": "ipython3",
   "version": "3.6.7"
  }
 },
 "nbformat": 4,
 "nbformat_minor": 2
}
