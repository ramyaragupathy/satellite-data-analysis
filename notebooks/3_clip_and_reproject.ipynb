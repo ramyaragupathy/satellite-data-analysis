{
 "cells": [
  {
   "cell_type": "markdown",
   "metadata": {},
   "source": [
    "# Clip a satellite image to AOI and reproject into a new CRS\n"
   ]
  },
  {
   "cell_type": "code",
   "execution_count": null,
   "metadata": {},
   "outputs": [],
   "source": [
    "import rasterio\n",
    "from matplotlib import pyplot as plt\n",
    "\n",
    "# This notebook explores a single 4 band (blue, green, red, NIR) PlanetScope scene in a UTM projection.\n",
    "image_file = \"20190321_174348_0f1a_3B_AnalyticMS.tif\"\n",
    "\n",
    "# Use Rasterio to open the image.\n",
    "satdat = rasterio.open(image_file)"
   ]
  },
  {
   "cell_type": "code",
   "execution_count": null,
   "metadata": {},
   "outputs": [],
   "source": [
    "# rasterio.plot.show is a shortcut to matplotlib plotting\n",
    "\n",
    "from rasterio.plot import show\n",
    "show(satdat)"
   ]
  },
  {
   "cell_type": "markdown",
   "metadata": {},
   "source": [
    "## Using a mask to cut raster along boundary\n",
    "\n",
    "In this exercise we're going to clip a fullsized PlanetScope dataset to an area of interest (AOI) polygon. Because this AOI is a vector dataset (versus raster), we'll use Rasterio's sister-library, Fiona, to read the geoJSON dataset:"
   ]
  },
  {
   "cell_type": "code",
   "execution_count": null,
   "metadata": {},
   "outputs": [],
   "source": [
    "import fiona\n",
    "\n",
    "# use fiona to open our AOI GeoJSON\n",
    "with fiona.open('aoi.geojson') as f:\n",
    "    aoi = [feature[\"geometry\"] for feature in f]"
   ]
  },
  {
   "cell_type": "markdown",
   "metadata": {},
   "source": [
    "![masked.png](masked.png)\n",
    "_Area of Interest (shown here in red) displayed over a portion of the complete dataset_"
   ]
  },
  {
   "cell_type": "markdown",
   "metadata": {},
   "source": [
    "In order to clip our original raster to the boundary defined by the AOI, we'll use rasterio's `mask` function. This will create a copy of our original dataset, with all pixels outside of the input AOI shape set to `nodata` values."
   ]
  },
  {
   "cell_type": "code",
   "execution_count": null,
   "metadata": {},
   "outputs": [],
   "source": [
    "# import rasterio's mask tool\n",
    "from rasterio.mask import mask\n",
    "\n",
    "# apply mask with crop=True to crop the resulting raster to the AOI's bounding box\n",
    "with rasterio.open(image_file) as img:\n",
    "    clipped, transform = mask(img, aoi, crop=True)\n",
    "    \n",
    "print(clipped.shape)"
   ]
  },
  {
   "cell_type": "markdown",
   "metadata": {},
   "source": [
    "Using a copy of the metadata from our original raster dataset, we can write a new geoTIFF containing the new, clipped raster data:"
   ]
  },
  {
   "cell_type": "code",
   "execution_count": null,
   "metadata": {},
   "outputs": [],
   "source": [
    "# use the metadata from our original mosaic\n",
    "meta = img.meta.copy()\n",
    "\n",
    "# update metadata with new, clipped mosaic's boundaries\n",
    "meta.update({\"transform\": transform,\n",
    "    \"height\":clipped.shape[1],\n",
    "    \"width\":clipped.shape[2]})\n",
    "\n",
    "# write the clipped-and-cropped dataset to a new GeoTIFF\n",
    "with rasterio.open('clipped.tif', 'w', **meta) as dst:\n",
    "    dst.write(clipped)"
   ]
  },
  {
   "cell_type": "code",
   "execution_count": null,
   "metadata": {},
   "outputs": [],
   "source": [
    "clipped_img = rasterio.open(\"clipped.tif\")\n",
    "show(clipped_img)"
   ]
  },
  {
   "cell_type": "markdown",
   "metadata": {},
   "source": [
    "## Reprojecting with rasterio\n",
    "\n",
    "Now let's reproject our clipped dataset: for this example, we'll reproject into EPSG 4326"
   ]
  },
  {
   "cell_type": "code",
   "execution_count": null,
   "metadata": {},
   "outputs": [],
   "source": [
    "from rasterio.warp import calculate_default_transform, reproject\n",
    "\n",
    "# define our target CRS - rasterio will accept any CRS that can be defined using WKT\n",
    "target_crs = 'EPSG:4326'"
   ]
  },
  {
   "cell_type": "markdown",
   "metadata": {},
   "source": [
    "### Transforms\n",
    "\n",
    "In order to translate pixel coordinates in a raster dataset into coordinates that use a spatial reference system, an **affine transformation** must be applied to the dataset. This **transform** is a matrix used to translate rows and columns of pixels into (x,y) spatial coordinate pairs. Every spatially referenced raster dataset has an affine transform that describes its pixel-to-map-coordinate transformation.\n",
    "\n",
    "In order to reproject a raster dataset from one coordinate reference system to another, rasterio uses the **transform** of the dataset: this can be calculated automatically using rasterio's `calculate_default_transform` method:"
   ]
  },
  {
   "cell_type": "code",
   "execution_count": null,
   "metadata": {},
   "outputs": [],
   "source": [
    "# calculate a transform and new dimensions using our dataset's current CRS and dimensions\n",
    "transform, width, height = calculate_default_transform(clipped_img.crs, \n",
    "                                                      target_crs, \n",
    "                                                       clipped_img.width, \n",
    "                                                       clipped_img.height, \n",
    "                                                       *clipped_img.bounds)"
   ]
  },
  {
   "cell_type": "markdown",
   "metadata": {},
   "source": [
    "Using a copy of the metadata from the clipped raster dataset and the transform we defined above, we can write a new geoTIFF containing the reprojected and clipped raster data:"
   ]
  },
  {
   "cell_type": "code",
   "execution_count": null,
   "metadata": {},
   "outputs": [],
   "source": [
    "# Copy the metadata from the clipped dataset\n",
    "metadata = clipped_img.meta.copy()\n",
    "\n",
    "# Change the CRS, transform, and dimensions in metadata to match our desired output dataset\n",
    "metadata.update({'crs':target_crs, \n",
    "                'transform':transform,\n",
    "                'width':width,\n",
    "                'height':height})"
   ]
  },
  {
   "cell_type": "code",
   "execution_count": null,
   "metadata": {},
   "outputs": [],
   "source": [
    "# apply the transform & metadata to perform the reprojection\n",
    "# here we're saving the output to a new 'clipped_4326.tif' file\n",
    "with rasterio.open('clipped_4326.tif', 'w', **metadata) as reprojected:\n",
    "    for band in range(1, clipped_img.count + 1):\n",
    "        reproject(\n",
    "            source=rasterio.band(clipped_img, band),\n",
    "            destination=rasterio.band(reprojected, band),\n",
    "            src_transform=clipped_img.transform,\n",
    "            src_crs=clipped_img.crs,\n",
    "            dst_transform=transform,\n",
    "            dst_crs=target_crs\n",
    "        )"
   ]
  },
  {
   "cell_type": "code",
   "execution_count": null,
   "metadata": {},
   "outputs": [],
   "source": [
    "# take a look at our clipped & reprojected dataset\n",
    "reproj = rasterio.open(\"clipped_4326.tif\")\n",
    "show(reproj)"
   ]
  }
 ],
 "metadata": {
  "kernelspec": {
   "display_name": "rs103",
   "language": "python",
   "name": "rs103"
  },
  "language_info": {
   "codemirror_mode": {
    "name": "ipython",
    "version": 3
   },
   "file_extension": ".py",
   "mimetype": "text/x-python",
   "name": "python",
   "nbconvert_exporter": "python",
   "pygments_lexer": "ipython3",
   "version": "3.6.7"
  }
 },
 "nbformat": 4,
 "nbformat_minor": 2
}
