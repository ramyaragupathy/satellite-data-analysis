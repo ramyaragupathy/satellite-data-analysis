{
 "cells": [
  {
   "cell_type": "markdown",
   "metadata": {},
   "source": [
    "# Visualizing Satellite Imagery with matplotlib"
   ]
  },
  {
   "cell_type": "code",
   "execution_count": null,
   "metadata": {},
   "outputs": [],
   "source": [
    "import rasterio\n",
    "from matplotlib import pyplot as plt\n",
    "\n",
    "# This notebook explores a single 4 band (blue, green, red, NIR) PlanetScope scene in a UTM projection.\n",
    "# For the sake of efficiency, here we will use the clipped geoTIFF created previously\n",
    "image_file = \"clipped.tif\"\n",
    "\n",
    "# Use Rasterio to open the image.\n",
    "satdat = rasterio.open(image_file)"
   ]
  },
  {
   "cell_type": "code",
   "execution_count": null,
   "metadata": {},
   "outputs": [],
   "source": [
    "# scale values for display purposes\n",
    "def scale(band):\n",
    "    return band / 10000.0\n",
    "\n",
    "# Load the bands into numpy arrays\n",
    "# recall that we previously learned PlanetScope band order is BGRN\n",
    "blue = scale(satdat.read(1))\n",
    "green = scale(satdat.read(2))\n",
    "red = scale(satdat.read(3))\n",
    "nir = scale(satdat.read(4))"
   ]
  },
  {
   "cell_type": "code",
   "execution_count": null,
   "metadata": {},
   "outputs": [],
   "source": [
    "# Use numpy to create two stacks of bands:\n",
    "import numpy\n",
    "rgb = numpy.dstack((red, green, blue))\n",
    "nrg = numpy.dstack((nir, red, green))"
   ]
  },
  {
   "cell_type": "code",
   "execution_count": null,
   "metadata": {},
   "outputs": [],
   "source": [
    "# Use imshow to load the blue band.\n",
    "fig = plt.imshow(blue)\n",
    "\n",
    "# Display the results.\n",
    "plt.show()"
   ]
  },
  {
   "cell_type": "code",
   "execution_count": null,
   "metadata": {},
   "outputs": [],
   "source": [
    "# Plot the green band using a non-default color ramp & a color bar\n",
    "# see also: https://matplotlib.org/users/colormaps.html\n",
    "fig = plt.imshow(green)\n",
    "fig.set_cmap('gist_earth')\n",
    "plt.colorbar()\n",
    "\n",
    "# Display the results.\n",
    "plt.show()"
   ]
  },
  {
   "cell_type": "code",
   "execution_count": null,
   "metadata": {},
   "outputs": [],
   "source": [
    "# Plot the red band\n",
    "\n",
    "fig = plt.imshow(red)\n",
    "fig.set_cmap('inferno')\n",
    "plt.colorbar()\n",
    "\n",
    "# Since the axis labels are useless here, let's turn them off.\n",
    "plt.axis('off')\n",
    "\n",
    "# Display the results.\n",
    "plt.show()"
   ]
  },
  {
   "cell_type": "markdown",
   "metadata": {},
   "source": [
    "## Displaying Composite Imagery"
   ]
  },
  {
   "cell_type": "code",
   "execution_count": null,
   "metadata": {},
   "outputs": [],
   "source": [
    "# Use numpy to create two stacks of bands:\n",
    "import numpy\n",
    "rgb = numpy.dstack((red, green, blue))\n",
    "nrg = numpy.dstack((nir,red,green))"
   ]
  },
  {
   "cell_type": "code",
   "execution_count": null,
   "metadata": {
    "scrolled": false
   },
   "outputs": [],
   "source": [
    "# plot the RGB stack to see a true-color representation\n",
    "plt.imshow(rgb)"
   ]
  },
  {
   "cell_type": "code",
   "execution_count": null,
   "metadata": {},
   "outputs": [],
   "source": [
    "# use the NRG stack to display a false-color composite, highlighting vegetation\n",
    "# in clipped.tif, the grassy Presidio and Golden Gate Park become easy to spot\n",
    "plt.imshow(nrg)"
   ]
  }
 ],
 "metadata": {
  "kernelspec": {
   "display_name": "rs103",
   "language": "python",
   "name": "rs103"
  },
  "language_info": {
   "codemirror_mode": {
    "name": "ipython",
    "version": 3
   },
   "file_extension": ".py",
   "mimetype": "text/x-python",
   "name": "python",
   "nbconvert_exporter": "python",
   "pygments_lexer": "ipython3",
   "version": "3.6.7"
  }
 },
 "nbformat": 4,
 "nbformat_minor": 2
}
