{
 "cells": [
  {
   "cell_type": "markdown",
   "metadata": {},
   "source": [
    "# Getting all setup\n",
    "The following setup will install all necessary libraries and setups for jupyter notebooks and extensions"
   ]
  },
  {
   "cell_type": "code",
   "execution_count": 20,
   "metadata": {},
   "outputs": [],
   "source": [
    "!pip install ipyleaflet\n",
    "!pip install ipywidgets\n",
    "!pip install ipyvolume\n",
    "!pip install altair\n",
    "!pip install vega_datasets\n",
    "!pip install bqplot\n",
    "!pip install nbdime\n",
    "!pip install palettable\n",
    "!pip install earthengine-api\n",
    "!pip install folium"
   ]
  },
  {
   "cell_type": "code",
   "execution_count": null,
   "metadata": {},
   "outputs": [],
   "source": [
    "%%bash\n",
    "jupyter labextension install jupyter-leaflet\n",
    "jupyter labextension install @jupyter-widgets/jupyterlab-manager\n",
    "jupyter nbextension install --py --symlink --sys-prefix ipyleaflet\n",
    "jupyter nbextension enable --py --sys-prefix ipyleaflet\n",
    "jupyter labextension install js\n",
    "jupyter labextension install ipyvolume\n",
    "jupyter nbextension enable --py --sys-prefix widgetsnbextension\n",
    "jupyter labextension install @jupyter-widgets/jupyterlab-manager\n",
    "jupyter nbextension enable --py widgetsnbextension --sys-prefix\n",
    "jupyter labextension install bqplot\n",
    "jupyter nbextension install bqplot --py --symlink --sys-prefix\n",
    "jupyter nbextension enable --py --sys-prefix bqplot"
   ]
  },
  {
   "cell_type": "markdown",
   "metadata": {},
   "source": [
    "## Authenticate Earth Engine and Get Setup"
   ]
  },
  {
   "cell_type": "code",
   "execution_count": null,
   "metadata": {},
   "outputs": [],
   "source": [
    "!earthengine authenticate --quiet"
   ]
  },
  {
   "cell_type": "code",
   "execution_count": null,
   "metadata": {},
   "outputs": [],
   "source": [
    "!earthengine authenticate --authorization-code=PLACE_AUTH_CODE_HERE"
   ]
  }
 ],
 "metadata": {
  "kernelspec": {
   "display_name": "Python 3",
   "language": "python",
   "name": "python3"
  },
  "language_info": {
   "codemirror_mode": {
    "name": "ipython",
    "version": 3
   },
   "file_extension": ".py",
   "mimetype": "text/x-python",
   "name": "python",
   "nbconvert_exporter": "python",
   "pygments_lexer": "ipython3",
   "version": "3.6.6"
  }
 },
 "nbformat": 4,
 "nbformat_minor": 4
}
